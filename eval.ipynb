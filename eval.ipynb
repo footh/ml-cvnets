{
 "cells": [
  {
   "cell_type": "code",
   "execution_count": 1,
   "id": "24a70ef4-d75f-465d-aa70-6f1449308a7a",
   "metadata": {},
   "outputs": [
    {
     "name": "stderr",
     "output_type": "stream",
     "text": [
      "/home/jfaath/anaconda3/envs/dlp/lib/python3.9/site-packages/tqdm/auto.py:22: TqdmWarning: IProgress not found. Please update jupyter and ipywidgets. See https://ipywidgets.readthedocs.io/en/stable/user_install.html\n",
      "  from .autonotebook import tqdm as notebook_tqdm\n"
     ]
    }
   ],
   "source": [
    "from data import create_train_val_loader\n",
    "from options import utils\n",
    "import yaml\n",
    "import collections\n",
    "import argparse\n",
    "from matplotlib import pyplot as plt\n",
    "import torch"
   ]
  },
  {
   "cell_type": "code",
   "execution_count": 2,
   "id": "5bc05944-a438-43de-bca9-3ab2d04ba39a",
   "metadata": {},
   "outputs": [],
   "source": [
    "import sys\n",
    "from options.opts import get_eval_arguments\n",
    "\n",
    "EVAL_DIR = 'results_mobilevittiny_x_small_noscales/remove_4_5/'\n",
    "CHKPT_FILE = 'checkpoint_ema_score_58.7300.pt'\n",
    "\n",
    "\n",
    "sys.argv = ['cvnets', \n",
    "            '--common.config-file', f'{EVAL_DIR}/config.yaml',\n",
    "            '--model.classification.pretrained', f'{EVAL_DIR}/{CHKPT_FILE}']\n",
    "opts = get_eval_arguments()"
   ]
  },
  {
   "cell_type": "code",
   "execution_count": null,
   "id": "6bb40178-9c3c-4ed3-a34b-aef1b2bf1bd8",
   "metadata": {},
   "outputs": [],
   "source": []
  }
 ],
 "metadata": {
  "kernelspec": {
   "display_name": "Python 3 (ipykernel)",
   "language": "python",
   "name": "python3"
  },
  "language_info": {
   "codemirror_mode": {
    "name": "ipython",
    "version": 3
   },
   "file_extension": ".py",
   "mimetype": "text/x-python",
   "name": "python",
   "nbconvert_exporter": "python",
   "pygments_lexer": "ipython3",
   "version": "3.9.12"
  }
 },
 "nbformat": 4,
 "nbformat_minor": 5
}
