{
 "cells": [
  {
   "cell_type": "code",
   "execution_count": 1,
   "id": "bfcf73a4-0319-492d-9162-df3c25492a41",
   "metadata": {},
   "outputs": [
    {
     "name": "stderr",
     "output_type": "stream",
     "text": [
      "/home/jfaath/anaconda3/envs/dlp/lib/python3.9/site-packages/tqdm/auto.py:22: TqdmWarning: IProgress not found. Please update jupyter and ipywidgets. See https://ipywidgets.readthedocs.io/en/stable/user_install.html\n",
      "  from .autonotebook import tqdm as notebook_tqdm\n"
     ]
    }
   ],
   "source": [
    "from data import create_train_val_loader\n",
    "from options import utils\n",
    "import yaml\n",
    "import collections\n",
    "import argparse\n",
    "from matplotlib import pyplot as plt\n",
    "import torch"
   ]
  },
  {
   "cell_type": "code",
   "execution_count": 2,
   "id": "f1eb12b9-dd93-4583-991f-5474fea19acf",
   "metadata": {},
   "outputs": [],
   "source": [
    "import sys\n",
    "from options.opts import get_training_arguments\n",
    "\n",
    "sys.argv = ['cvnets', '--common.config-file', 'config/classification/data_test.yaml']\n",
    "opts = get_training_arguments()"
   ]
  },
  {
   "cell_type": "code",
   "execution_count": 4,
   "id": "bbaa1c1a-8a43-4e24-814b-0a7fd85119c5",
   "metadata": {},
   "outputs": [
    {
     "name": "stdout",
     "output_type": "stream",
     "text": [
      "2022-04-13 11:55:01 - \u001b[34m\u001b[1mLOGS   \u001b[0m - Training and validation dataset details: \n",
      "TinyImagenetDataset(\n",
      "\troot=/home/jfaath/projects/image_data/tiny-imagenet-200/train\n",
      "\t is_training=True\n",
      "\tsamples=100000\n",
      "\ttransforms=Compose(\n",
      "\t\t\tRandomResizedCrop(scale=[0.08, 1.0], ratio=(0.9, 1.1), interpolation=bilinear), \n",
      "\t\t\tRandomHorizontalFlip(p=0.5), \n",
      "\t\t\tNumpyToTensor())\n",
      ")\n",
      "TinyImagenetDataset(\n",
      "\troot=/home/jfaath/projects/image_data/tiny-imagenet-200/val/images\n",
      "\t is_training=False\n",
      "\tsamples=10000\n",
      "\ttransforms=Compose(\n",
      "\t\t\tResize(size=72, interpolation=bilinear), \n",
      "\t\t\tCenterCrop(size=(h=64, w=64)), \n",
      "\t\t\tNumpyToTensor())\n",
      ")\n",
      "2022-04-13 11:55:01 - \u001b[34m\u001b[1mLOGS   \u001b[0m - Training sampler details: \n",
      "BatchSampler(\n",
      " \t base_im_size=(h=64, w=64)\n",
      " \t base_batch_size=128\n",
      "\t\n",
      ")\n",
      "2022-04-13 11:55:01 - \u001b[34m\u001b[1mLOGS   \u001b[0m - Validation sampler details: \n",
      "BatchSampler(\n",
      " \t base_im_size=(h=64, w=64)\n",
      " \t base_batch_size=100\n",
      "\t\n",
      ")\n",
      "2022-04-13 11:55:01 - \u001b[34m\u001b[1mLOGS   \u001b[0m - Number of data workers: 4\n"
     ]
    }
   ],
   "source": [
    "train_loader, val_loader, train_sampler = create_train_val_loader(opts)"
   ]
  },
  {
   "cell_type": "code",
   "execution_count": 7,
   "id": "3604bb3f-54ed-42dd-86d9-efe0aad820d7",
   "metadata": {},
   "outputs": [
    {
     "name": "stdout",
     "output_type": "stream",
     "text": [
      "(64, 64, 3)\n"
     ]
    },
    {
     "data": {
      "image/png": "[encoded data removed]",
      "text/plain": [
       "<Figure size 432x288 with 1 Axes>"
      ]
     },
     "metadata": {
      "needs_background": "light"
     },
     "output_type": "display_data"
    }
   ],
   "source": [
    "x = []\n",
    "for batch_id, batch in enumerate(val_loader):\n",
    "    img = batch['image'][0]\n",
    "    img = torch.moveaxis(img, 0, 2).cpu().numpy()\n",
    "    plt.imshow(img)\n",
    "#     print(batch['label'])\n",
    "#     x.append(max(batch['label']))\n",
    "    \n",
    "    break\n",
    "print(img)"
   ]
  },
  {
   "cell_type": "code",
   "execution_count": null,
   "id": "4e831c6a-c2b2-4fa0-b65a-fe3545c4e1db",
   "metadata": {},
   "outputs": [],
   "source": [
    "import pickle\n",
    "def open_test_data():\n",
    "    return open('labels.pickle', 'rb')\n",
    "\n",
    "with open_test_data() as f:\n",
    "    dict1 = pickle.load(f)\n",
    "    \n",
    "len(dict1)"
   ]
  },
  {
   "cell_type": "code",
   "execution_count": null,
   "id": "e4bcc47a-537d-41b5-b40f-8479106405b9",
   "metadata": {},
   "outputs": [],
   "source": [
    "from data.transforms.image import RandomResizedCrop\n",
    "import cv2\n",
    "\n",
    "img = cv2.imread(\"/home/jfaath/Downloads/sarek.jpeg\")\n",
    "data = {'image': img}\n",
    "\n",
    "rrs = RandomResizedCrop(opts, (64, 64))\n",
    "print(rrs.scale)\n",
    "print(rrs.ratio)\n",
    "new_img = rrs(data)['image']\n",
    "plt.imshow(new_img)"
   ]
  },
  {
   "cell_type": "code",
   "execution_count": null,
   "id": "383ed033-945d-4a24-bb41-7407234d29cc",
   "metadata": {},
   "outputs": [],
   "source": [
    "plt.imshow(img)"
   ]
  },
  {
   "cell_type": "code",
   "execution_count": 3,
   "id": "08df61e7-c790-4619-adee-ebb0df1b60ea",
   "metadata": {},
   "outputs": [
    {
     "name": "stdout",
     "output_type": "stream",
     "text": [
      "torch.Size([1, 200])\n"
     ]
    }
   ],
   "source": [
    "import torch\n",
    "from cvnets import get_model\n",
    "\n",
    "model = get_model(opts)\n",
    "\n",
    "x = torch.randn(1, 3, 64, 64)\n",
    "\n",
    "y = model(x)\n",
    "print(y.shape)"
   ]
  },
  {
   "cell_type": "code",
   "execution_count": 4,
   "id": "430349ce-c951-4f4e-9e01-2155714700a6",
   "metadata": {},
   "outputs": [
    {
     "name": "stdout",
     "output_type": "stream",
     "text": [
      "after conv_1: torch.Size([2, 16, 128, 128])\n",
      "after layer_1: torch.Size([2, 32, 128, 128])\n",
      "after layer_2: torch.Size([2, 48, 64, 64])\n",
      "after layer_3: torch.Size([2, 64, 32, 32])\n",
      "after layer_4: torch.Size([2, 80, 16, 16])\n",
      "after layer_5: torch.Size([2, 96, 8, 8])\n",
      "after conv_1x1_exp: torch.Size([2, 384, 8, 8])\n",
      "torch.Size([2, 200])\n"
     ]
    }
   ],
   "source": [
    "import torch\n",
    "from cvnets import get_model\n",
    "\n",
    "model = get_model(opts)\n",
    "\n",
    "x = torch.randn(2, 3, 256, 256)\n",
    "\n",
    "y = model(x)\n",
    "print(y.shape)"
   ]
  }
 ],
 "metadata": {
  "kernelspec": {
   "display_name": "Python 3 (ipykernel)",
   "language": "python",
   "name": "python3"
  },
  "language_info": {
   "codemirror_mode": {
    "name": "ipython",
    "version": 3
   },
   "file_extension": ".py",
   "mimetype": "text/x-python",
   "name": "python",
   "nbconvert_exporter": "python",
   "pygments_lexer": "ipython3",
   "version": "3.9.12"
  }
 },
 "nbformat": 4,
 "nbformat_minor": 5
}
