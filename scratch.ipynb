{
 "cells": [
  {
   "cell_type": "code",
   "execution_count": 1,
   "id": "bfcf73a4-0319-492d-9162-df3c25492a41",
   "metadata": {
    "pycharm": {
     "name": "#%%\n"
    }
   },
   "outputs": [
    {
     "name": "stderr",
     "output_type": "stream",
     "text": [
      "/home/jfaath/anaconda3/envs/dlp/lib/python3.9/site-packages/tqdm/auto.py:22: TqdmWarning: IProgress not found. Please update jupyter and ipywidgets. See https://ipywidgets.readthedocs.io/en/stable/user_install.html\n",
      "  from .autonotebook import tqdm as notebook_tqdm\n"
     ]
    }
   ],
   "source": [
    "from data import create_train_val_loader\n",
    "from options import utils\n",
    "import yaml\n",
    "import collections\n",
    "import argparse\n",
    "from matplotlib import pyplot as plt\n",
    "import torch"
   ]
  },
  {
   "cell_type": "code",
   "execution_count": 2,
   "id": "f1eb12b9-dd93-4583-991f-5474fea19acf",
   "metadata": {
    "pycharm": {
     "name": "#%%\n"
    }
   },
   "outputs": [],
   "source": [
    "import sys\n",
    "from options.opts import get_training_arguments\n",
    "\n",
    "sys.argv = ['cvnets', '--common.config-file', 'config/classification/data_test.yaml']\n",
    "opts = get_training_arguments()"
   ]
  },
  {
   "cell_type": "code",
   "execution_count": null,
   "id": "bbaa1c1a-8a43-4e24-814b-0a7fd85119c5",
   "metadata": {
    "pycharm": {
     "name": "#%%\n"
    }
   },
   "outputs": [],
   "source": [
    "train_loader, val_loader, train_sampler = create_train_val_loader(opts)"
   ]
  },
  {
   "cell_type": "code",
   "execution_count": null,
   "id": "3604bb3f-54ed-42dd-86d9-efe0aad820d7",
   "metadata": {
    "pycharm": {
     "name": "#%%\n"
    }
   },
   "outputs": [],
   "source": [
    "x = []\n",
    "for batch_id, batch in enumerate(val_loader):\n",
    "    img = batch['image'][0]\n",
    "    img = torch.moveaxis(img, 0, 2).cpu().numpy()\n",
    "    plt.imshow(img)\n",
    "#     print(batch['label'])\n",
    "#     x.append(max(batch['label']))\n",
    "    \n",
    "    break\n",
    "print(img)"
   ]
  },
  {
   "cell_type": "code",
   "execution_count": null,
   "id": "4e831c6a-c2b2-4fa0-b65a-fe3545c4e1db",
   "metadata": {
    "pycharm": {
     "name": "#%%\n"
    }
   },
   "outputs": [],
   "source": [
    "import pickle\n",
    "def open_test_data():\n",
    "    return open('labels.pickle', 'rb')\n",
    "\n",
    "with open_test_data() as f:\n",
    "    dict1 = pickle.load(f)\n",
    "    \n",
    "len(dict1)"
   ]
  },
  {
   "cell_type": "code",
   "execution_count": null,
   "id": "e4bcc47a-537d-41b5-b40f-8479106405b9",
   "metadata": {
    "pycharm": {
     "name": "#%%\n"
    }
   },
   "outputs": [],
   "source": [
    "from data.transforms.image import RandomResizedCrop\n",
    "import cv2\n",
    "\n",
    "img = cv2.imread(\"/home/jfaath/Downloads/sarek.jpeg\")\n",
    "data = {'image': img}\n",
    "\n",
    "rrs = RandomResizedCrop(opts, (64, 64))\n",
    "print(rrs.scale)\n",
    "print(rrs.ratio)\n",
    "new_img = rrs(data)['image']\n",
    "plt.imshow(new_img)"
   ]
  },
  {
   "cell_type": "code",
   "execution_count": null,
   "id": "383ed033-945d-4a24-bb41-7407234d29cc",
   "metadata": {
    "pycharm": {
     "name": "#%%\n"
    }
   },
   "outputs": [],
   "source": [
    "plt.imshow(img)"
   ]
  },
  {
   "cell_type": "code",
   "execution_count": null,
   "id": "08df61e7-c790-4619-adee-ebb0df1b60ea",
   "metadata": {
    "pycharm": {
     "name": "#%%\n"
    }
   },
   "outputs": [],
   "source": [
    "import torch\n",
    "from cvnets import get_model\n",
    "\n",
    "model = get_model(opts)\n",
    "\n",
    "x = torch.randn(1, 3, 64, 64)\n",
    "\n",
    "y = model(x)\n",
    "print(y.shape)"
   ]
  },
  {
   "cell_type": "code",
   "execution_count": 3,
   "id": "430349ce-c951-4f4e-9e01-2155714700a6",
   "metadata": {
    "pycharm": {
     "name": "#%%\n"
    }
   },
   "outputs": [
    {
     "name": "stdout",
     "output_type": "stream",
     "text": [
      "after conv_1: torch.Size([2, 16, 32, 32])\n",
      "after layer_1: torch.Size([2, 32, 32, 32])\n",
      "after layer_2: torch.Size([2, 48, 16, 16])\n",
      "after layer_3: torch.Size([2, 48, 16, 16])\n",
      "after layer_4: torch.Size([2, 48, 16, 16])\n",
      "after layer_5: torch.Size([2, 96, 8, 8])\n",
      "after conv_1x1_exp: torch.Size([2, 384, 8, 8])\n",
      "torch.Size([2, 200])\n"
     ]
    }
   ],
   "source": [
    "import torch\n",
    "from cvnets import get_model\n",
    "\n",
    "model = get_model(opts)\n",
    "\n",
    "x = torch.randn(2, 3, 64, 64)\n",
    "\n",
    "y = model(x)\n",
    "print(y.shape)"
   ]
  },
  {
   "cell_type": "code",
   "execution_count": null,
   "id": "e556a54d-0e5b-4ea9-ad49-e6f9151083af",
   "metadata": {
    "pycharm": {
     "name": "#%%\n"
    }
   },
   "outputs": [],
   "source": []
  }
 ],
 "metadata": {
  "kernelspec": {
   "display_name": "Python 3 (ipykernel)",
   "language": "python",
   "name": "python3"
  },
  "language_info": {
   "codemirror_mode": {
    "name": "ipython",
    "version": 3
   },
   "file_extension": ".py",
   "mimetype": "text/x-python",
   "name": "python",
   "nbconvert_exporter": "python",
   "pygments_lexer": "ipython3",
   "version": "3.9.12"
  }
 },
 "nbformat": 4,
 "nbformat_minor": 5
}